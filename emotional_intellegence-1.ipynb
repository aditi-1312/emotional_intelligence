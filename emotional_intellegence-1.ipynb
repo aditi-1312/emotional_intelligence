{
 "cells": [
  {
   "cell_type": "code",
   "execution_count": null,
   "id": "481c3dfb",
   "metadata": {},
   "outputs": [],
   "source": [
    "\n",
    "import pandas as pd\n",
    "import numpy as np\n",
    "import re\n",
    "import seaborn as sns\n",
    "import matplotlib.pyplot as plt\n",
    "from sklearn.model_selection import train_test_split\n",
    "from sklearn.feature_extraction.text import TfidfVectorizer\n",
    "from sklearn.svm import LinearSVC\n",
    "from sklearn.linear_model import LogisticRegression\n",
    "from sklearn.metrics import classification_report, accuracy_score, confusion_matrix\n",
    "import joblib\n"
   ]
  },
  {
   "cell_type": "code",
   "execution_count": null,
   "id": "50995446",
   "metadata": {},
   "outputs": [
    {
     "name": "stdout",
     "output_type": "stream",
     "text": [
      "(2000, 2)\n",
      "                                                text  label\n",
      "0  im feeling rather rotten so im not very ambiti...      0\n",
      "1          im updating my blog because i feel shitty      0\n",
      "2  i never make her separate from me because i do...      0\n",
      "3  i left with my bouquet of red and yellow tulip...      1\n",
      "4    i was feeling a little vain when i did this one      0\n"
     ]
    }
   ],
   "source": [
    "df = pd.read_csv(\"/Users/aditigarg/Downloads/test.csv\")\n",
    "\n",
    "\n",
    "print(df.shape)\n",
    "print(df.head())\n"
   ]
  },
  {
   "cell_type": "code",
   "execution_count": 51,
   "id": "ac31ba33",
   "metadata": {},
   "outputs": [],
   "source": [
    "def clean_text(text):\n",
    "    text = text.lower()\n",
    "    text = re.sub(r'[^a-z0-9\\s]', '', text)  # allow numbers too\n",
    "    text = re.sub(r'\\s+', ' ', text)  # normalize whitespace\n",
    "    return text.strip()\n"
   ]
  },
  {
   "cell_type": "code",
   "execution_count": null,
   "id": "7a0fdd05",
   "metadata": {},
   "outputs": [
    {
     "name": "stdout",
     "output_type": "stream",
     "text": [
      "Cleaned data: (2000, 2)\n",
      "                                                   text  label\n",
      "388   i electrocuted my thumb and i cant type too we...      1\n",
      "1665               i always feel so dull in the morning      0\n",
      "713   i know some people are more fond of the treat ...      2\n",
      "1938  i feel rebellious i wish i could do things leg...      3\n",
      "475   i feel very honored to have been shortlisted w...      1\n"
     ]
    }
   ],
   "source": [
    "\n",
    "df['text'] = df['text'].astype(str).apply(clean_text)\n",
    "\n",
    "\n",
    "df = df[df['text'].str.strip() != '']\n",
    "print(f\"Cleaned data: {df.shape}\")\n",
    "print(df.sample(5))\n"
   ]
  },
  {
   "cell_type": "code",
   "execution_count": null,
   "id": "a07fb173",
   "metadata": {},
   "outputs": [],
   "source": [
    "# TF-IDF Vectorization\n",
    "X = df['text']\n",
    "y = df['label']\n",
    "\n",
    "vectorizer = TfidfVectorizer(stop_words='english', max_features=12000, ngram_range=(1,1))\n",
    "X_vect = vectorizer.fit_transform(X)\n",
    "\n",
    "X_train, X_test, y_train, y_test = train_test_split(\n",
    "    X_vect, y, test_size=0.2, random_state=42, stratify=y\n",
    ")\n",
    "\n"
   ]
  },
  {
   "cell_type": "code",
   "execution_count": null,
   "id": "b875ac8b",
   "metadata": {},
   "outputs": [
    {
     "name": "stdout",
     "output_type": "stream",
     "text": [
      "LinearSVC Accuracy: 0.7875\n",
      "\n",
      "LinearSVC Classification Report:\n",
      "               precision    recall  f1-score   support\n",
      "\n",
      "           0       0.80      0.81      0.81       116\n",
      "           1       0.75      0.95      0.84       139\n",
      "           2       0.75      0.38      0.50        32\n",
      "           3       0.83      0.69      0.75        55\n",
      "           4       0.85      0.76      0.80        45\n",
      "           5       1.00      0.38      0.56        13\n",
      "\n",
      "    accuracy                           0.79       400\n",
      "   macro avg       0.83      0.66      0.71       400\n",
      "weighted avg       0.80      0.79      0.78       400\n",
      "\n"
     ]
    }
   ],
   "source": [
    "# Train LinearSVC\n",
    "svc_model = LinearSVC()\n",
    "svc_model.fit(X_train, y_train)\n",
    "svc_preds = svc_model.predict(X_test)\n",
    "svc_acc = accuracy_score(y_test, svc_preds)\n",
    "print(\"LinearSVC Accuracy:\", svc_acc)\n",
    "print(\"\\nLinearSVC Classification Report:\\n\", classification_report(y_test, svc_preds))\n"
   ]
  },
  {
   "cell_type": "code",
   "execution_count": null,
   "id": "df155558",
   "metadata": {},
   "outputs": [
    {
     "name": "stdout",
     "output_type": "stream",
     "text": [
      "Logistic Regression Accuracy: 0.595\n",
      "\n",
      "Logistic Regression Classification Report:\n",
      "               precision    recall  f1-score   support\n",
      "\n",
      "           0       0.67      0.78      0.72       116\n",
      "           1       0.53      0.96      0.69       139\n",
      "           2       1.00      0.03      0.06        32\n",
      "           3       1.00      0.15      0.25        55\n",
      "           4       0.86      0.13      0.23        45\n",
      "           5       0.00      0.00      0.00        13\n",
      "\n",
      "    accuracy                           0.59       400\n",
      "   macro avg       0.68      0.34      0.32       400\n",
      "weighted avg       0.69      0.59      0.51       400\n",
      "\n"
     ]
    },
    {
     "name": "stderr",
     "output_type": "stream",
     "text": [
      "/Library/Frameworks/Python.framework/Versions/3.13/lib/python3.13/site-packages/sklearn/metrics/_classification.py:1565: UndefinedMetricWarning: Precision is ill-defined and being set to 0.0 in labels with no predicted samples. Use `zero_division` parameter to control this behavior.\n",
      "  _warn_prf(average, modifier, f\"{metric.capitalize()} is\", len(result))\n",
      "/Library/Frameworks/Python.framework/Versions/3.13/lib/python3.13/site-packages/sklearn/metrics/_classification.py:1565: UndefinedMetricWarning: Precision is ill-defined and being set to 0.0 in labels with no predicted samples. Use `zero_division` parameter to control this behavior.\n",
      "  _warn_prf(average, modifier, f\"{metric.capitalize()} is\", len(result))\n",
      "/Library/Frameworks/Python.framework/Versions/3.13/lib/python3.13/site-packages/sklearn/metrics/_classification.py:1565: UndefinedMetricWarning: Precision is ill-defined and being set to 0.0 in labels with no predicted samples. Use `zero_division` parameter to control this behavior.\n",
      "  _warn_prf(average, modifier, f\"{metric.capitalize()} is\", len(result))\n"
     ]
    }
   ],
   "source": [
    "# Train Logistic Regression\n",
    "log_model = LogisticRegression(max_iter=1000, solver='liblinear')\n",
    "log_model.fit(X_train, y_train)\n",
    "log_preds = log_model.predict(X_test)\n",
    "log_acc = accuracy_score(y_test, log_preds)\n",
    "print(\"Logistic Regression Accuracy:\", log_acc)\n",
    "print(\"\\nLogistic Regression Classification Report:\\n\", classification_report(y_test, log_preds))\n"
   ]
  },
  {
   "cell_type": "code",
   "execution_count": null,
   "id": "317bc39e",
   "metadata": {},
   "outputs": [
    {
     "data": {
      "image/png": "[encoded data removed]",
      "text/plain": [
       "<Figure size 800x600 with 2 Axes>"
      ]
     },
     "metadata": {},
     "output_type": "display_data"
    },
    {
     "data": {
      "image/png": "[encoded data removed]",
      "text/plain": [
       "<Figure size 640x480 with 1 Axes>"
      ]
     },
     "metadata": {},
     "output_type": "display_data"
    }
   ],
   "source": [
    "\n",
    "labels_present = sorted(y_test.unique())\n",
    "cm = confusion_matrix(y_test, svc_preds, labels=labels_present)\n",
    "plt.figure(figsize=(8, 6))\n",
    "sns.heatmap(cm, annot=True, fmt='d', cmap='Greens',\n",
    "            xticklabels=labels_present,\n",
    "            yticklabels=labels_present)\n",
    "plt.title('LinearSVC Confusion Matrix')\n",
    "plt.xlabel('Predicted')\n",
    "plt.ylabel('Actual')\n",
    "plt.show()\n",
    "\n",
    "plt.xlabel('Predicted')\n",
    "plt.ylabel('Actual')\n",
    "plt.show()\n"
   ]
  },
  {
   "cell_type": "code",
   "execution_count": null,
   "id": "8c5d4104",
   "metadata": {},
   "outputs": [
    {
     "name": "stdout",
     "output_type": "stream",
     "text": [
      "\n",
      "Model Comparison:\n",
      "\n",
      "                 Model  Accuracy\n",
      "0            LinearSVC    0.7875\n",
      "1  Logistic Regression    0.5950\n"
     ]
    }
   ],
   "source": [
    "\n",
    "comparison = pd.DataFrame({\n",
    "    'Model': ['LinearSVC', 'Logistic Regression'],\n",
    "    'Accuracy': [svc_acc, log_acc]\n",
    "})\n",
    "print(\"\\nModel Comparison:\\n\")\n",
    "print(comparison)\n"
   ]
  },
  {
   "cell_type": "code",
   "execution_count": null,
   "id": "f8005368",
   "metadata": {},
   "outputs": [
    {
     "data": {
      "text/plain": [
       "['tfidf_vectorizer.pkl']"
      ]
     },
     "execution_count": 58,
     "metadata": {},
     "output_type": "execute_result"
    }
   ],
   "source": [
    "\n",
    "joblib.dump(svc_model, 'emotion_model_linearSVC.pkl')\n",
    "joblib.dump(log_model, 'emotion_model_logistic.pkl')\n",
    "joblib.dump(vectorizer, 'tfidf_vectorizer.pkl')\n"
   ]
  },
  {
   "cell_type": "code",
   "execution_count": null,
   "id": "a3c74384",
   "metadata": {},
   "outputs": [
    {
     "name": "stdout",
     "output_type": "stream",
     "text": [
      "Best model: LinearSVC with accuracy 0.7875\n"
     ]
    },
    {
     "data": {
      "text/plain": [
       "['tfidf_vectorizer.pkl']"
      ]
     },
     "execution_count": 59,
     "metadata": {},
     "output_type": "execute_result"
    }
   ],
   "source": [
    "\n",
    "if svc_acc >= log_acc:\n",
    "    print(f\"Best model: LinearSVC with accuracy {svc_acc:.4f}\")\n",
    "    joblib.dump(svc_model, 'best_emotion_model.pkl')\n",
    "else:\n",
    "    print(f\"Best model: Logistic Regression with accuracy {log_acc:.4f}\")\n",
    "    joblib.dump(log_model, 'best_emotion_model.pkl')\n",
    "\n",
    "joblib.dump(vectorizer, 'tfidf_vectorizer.pkl')\n"
   ]
  },
  {
   "cell_type": "code",
   "execution_count": null,
   "id": "fb20744b",
   "metadata": {},
   "outputs": [],
   "source": []
  }
 ],
 "metadata": {
  "kernelspec": {
   "display_name": "Python 3",
   "language": "python",
   "name": "python3"
  },
  "language_info": {
   "codemirror_mode": {
    "name": "ipython",
    "version": 3
   },
   "file_extension": ".py",
   "mimetype": "text/x-python",
   "name": "python",
   "nbconvert_exporter": "python",
   "pygments_lexer": "ipython3",
   "version": "3.13.2"
  }
 },
 "nbformat": 4,
 "nbformat_minor": 5
}
