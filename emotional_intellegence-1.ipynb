{
 "cells": [
  {
   "cell_type": "code",
   "execution_count": 1,
   "id": "481c3dfb",
   "metadata": {},
   "outputs": [
    {
     "name": "stdout",
     "output_type": "stream",
     "text": [
      "Columns: ['text', 'label']\n",
      "\n",
      "First few rows:\n",
      "                                                 text  label\n",
      "0  im feeling rather rotten so im not very ambiti...      0\n",
      "1          im updating my blog because i feel shitty      0\n",
      "2  i never make her separate from me because i do...      0\n",
      "3  i left with my bouquet of red and yellow tulip...      1\n",
      "4    i was feeling a little vain when i did this one      0\n",
      "\n",
      "NaN counts:\n",
      " text     0\n",
      "label    0\n",
      "dtype: int64\n"
     ]
    }
   ],
   "source": [
    "import pandas as pd\n",
    "\n",
    "# Load the CSV\n",
    "df = pd.read_csv(\"/Users/aditigarg/Downloads/test.csv\")\n",
    "\n",
    "# Print column names\n",
    "print(\"Columns:\", df.columns.tolist())\n",
    "\n",
    "# Show first few rows\n",
    "print(\"\\nFirst few rows:\\n\", df.head())\n",
    "\n",
    "# Show how many NaNs in each column\n",
    "print(\"\\nNaN counts:\\n\", df.isna().sum())\n"
   ]
  },
  {
   "cell_type": "code",
   "execution_count": 2,
   "id": "a07fb173",
   "metadata": {},
   "outputs": [],
   "source": [
    "df.columns = df.columns.str.strip()  # Removes extra spaces from column names\n"
   ]
  },
  {
   "cell_type": "code",
   "execution_count": 3,
   "id": "8d98488b",
   "metadata": {},
   "outputs": [
    {
     "name": "stdout",
     "output_type": "stream",
     "text": [
      "Remaining rows after cleaning: 2000\n"
     ]
    }
   ],
   "source": [
    "# Ensure 'text' and 'label' exist\n",
    "assert 'text' in df.columns and 'label' in df.columns, \"Missing 'text' or 'label' column\"\n",
    "\n",
    "# Drop rows with NaNs or empty text\n",
    "df = df.dropna(subset=['text', 'label'])\n",
    "df['text'] = df['text'].astype(str).str.strip()\n",
    "df = df[df['text'] != '']\n",
    "\n",
    "# Optional: see how many are left\n",
    "print(f\"Remaining rows after cleaning: {len(df)}\")\n",
    "\n",
    "# Final feature and label\n",
    "X = df['text']\n",
    "y = df['label']\n"
   ]
  },
  {
   "cell_type": "code",
   "execution_count": 4,
   "id": "694c3cdf",
   "metadata": {},
   "outputs": [],
   "source": [
    "if len(X) == 0:\n",
    "    raise ValueError(\"No valid text data left after cleaning.\")\n",
    "\n",
    "from sklearn.feature_extraction.text import TfidfVectorizer\n",
    "from sklearn.model_selection import train_test_split\n",
    "\n",
    "vectorizer = TfidfVectorizer(stop_words='english', max_features=5000)\n",
    "X_vect = vectorizer.fit_transform(X)\n",
    "\n",
    "X_train, X_test, y_train, y_test = train_test_split(\n",
    "    X_vect, y, test_size=0.2, random_state=42\n",
    ")\n"
   ]
  },
  {
   "cell_type": "code",
   "execution_count": 5,
   "id": "bed85322",
   "metadata": {},
   "outputs": [
    {
     "name": "stdout",
     "output_type": "stream",
     "text": [
      "Accuracy: 0.5975\n",
      "\n",
      "Classification Report:\n",
      "               precision    recall  f1-score   support\n",
      "\n",
      "           0       0.70      0.74      0.72       124\n",
      "           1       0.53      0.97      0.68       131\n",
      "           2       0.00      0.00      0.00        35\n",
      "           3       0.77      0.19      0.31        52\n",
      "           4       0.71      0.23      0.35        43\n",
      "           5       0.00      0.00      0.00        15\n",
      "\n",
      "    accuracy                           0.60       400\n",
      "   macro avg       0.45      0.36      0.34       400\n",
      "weighted avg       0.57      0.60      0.52       400\n",
      "\n",
      "\n",
      "Confusion Matrix:\n",
      " [[ 92  30   0   1   1   0]\n",
      " [  3 127   0   0   1   0]\n",
      " [ 11  24   0   0   0   0]\n",
      " [ 11  30   0  10   1   0]\n",
      " [ 11  21   0   1  10   0]\n",
      " [  4   9   0   1   1   0]]\n"
     ]
    },
    {
     "name": "stderr",
     "output_type": "stream",
     "text": [
      "/Library/Frameworks/Python.framework/Versions/3.13/lib/python3.13/site-packages/sklearn/metrics/_classification.py:1565: UndefinedMetricWarning: Precision is ill-defined and being set to 0.0 in labels with no predicted samples. Use `zero_division` parameter to control this behavior.\n",
      "  _warn_prf(average, modifier, f\"{metric.capitalize()} is\", len(result))\n",
      "/Library/Frameworks/Python.framework/Versions/3.13/lib/python3.13/site-packages/sklearn/metrics/_classification.py:1565: UndefinedMetricWarning: Precision is ill-defined and being set to 0.0 in labels with no predicted samples. Use `zero_division` parameter to control this behavior.\n",
      "  _warn_prf(average, modifier, f\"{metric.capitalize()} is\", len(result))\n",
      "/Library/Frameworks/Python.framework/Versions/3.13/lib/python3.13/site-packages/sklearn/metrics/_classification.py:1565: UndefinedMetricWarning: Precision is ill-defined and being set to 0.0 in labels with no predicted samples. Use `zero_division` parameter to control this behavior.\n",
      "  _warn_prf(average, modifier, f\"{metric.capitalize()} is\", len(result))\n"
     ]
    }
   ],
   "source": [
    "from sklearn.linear_model import LogisticRegression\n",
    "from sklearn.metrics import classification_report, accuracy_score, confusion_matrix\n",
    "\n",
    "# Step 1: Train Logistic Regression Model\n",
    "model = LogisticRegression(max_iter=1000)\n",
    "model.fit(X_train, y_train)\n",
    "\n",
    "# Step 2: Predict on test set\n",
    "y_pred = model.predict(X_test)\n",
    "\n",
    "# Step 3: Evaluate performance\n",
    "print(\"Accuracy:\", accuracy_score(y_test, y_pred))\n",
    "print(\"\\nClassification Report:\\n\", classification_report(y_test, y_pred))\n",
    "print(\"\\nConfusion Matrix:\\n\", confusion_matrix(y_test, y_pred))\n"
   ]
  },
  {
   "cell_type": "code",
   "execution_count": 7,
   "id": "cdd414db",
   "metadata": {},
   "outputs": [
    {
     "name": "stdout",
     "output_type": "stream",
     "text": [
      "[1 0]\n"
     ]
    }
   ],
   "source": [
    "def predict_sentiment(texts):\n",
    "    vect_texts = vectorizer.transform(texts)\n",
    "    return model.predict(vect_texts)\n",
    "\n",
    "samples = [\"I am so happy today!\", \"This is really bad.\"]\n",
    "print(predict_sentiment(samples))\n",
    "\n"
   ]
  },
  {
   "cell_type": "code",
   "execution_count": 8,
   "id": "ccf1f17e",
   "metadata": {},
   "outputs": [
    {
     "data": {
      "image/png": "[encoded data removed]",
      "text/plain": [
       "<Figure size 700x500 with 2 Axes>"
      ]
     },
     "metadata": {},
     "output_type": "display_data"
    }
   ],
   "source": [
    "import matplotlib.pyplot as plt\n",
    "import seaborn as sns\n",
    "from sklearn.metrics import confusion_matrix\n",
    "\n",
    "# Compute confusion matrix\n",
    "cm = confusion_matrix(y_test, y_pred, labels=model.classes_)\n",
    "\n",
    "# Plot\n",
    "plt.figure(figsize=(7,5))\n",
    "sns.heatmap(cm, annot=True, fmt='d', cmap='Blues',\n",
    "            xticklabels=model.classes_,\n",
    "            yticklabels=model.classes_)\n",
    "\n",
    "plt.xlabel('Predicted')\n",
    "plt.ylabel('Actual')\n",
    "plt.title('Confusion Matrix')\n",
    "plt.show()\n"
   ]
  },
  {
   "cell_type": "code",
   "execution_count": null,
   "id": "fb20744b",
   "metadata": {},
   "outputs": [],
   "source": []
  }
 ],
 "metadata": {
  "kernelspec": {
   "display_name": "Python 3",
   "language": "python",
   "name": "python3"
  },
  "language_info": {
   "codemirror_mode": {
    "name": "ipython",
    "version": 3
   },
   "file_extension": ".py",
   "mimetype": "text/x-python",
   "name": "python",
   "nbconvert_exporter": "python",
   "pygments_lexer": "ipython3",
   "version": "3.13.2"
  }
 },
 "nbformat": 4,
 "nbformat_minor": 5
}
